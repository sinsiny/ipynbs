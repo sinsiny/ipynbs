{
  "cells": [
    {
      "cell_type": "code",
      "source": [
        "# @title init\n",
        "!pip install yt-dlp\n",
        "!pip install ffmpeg-python\n",
        "!pip install subprocess\n",
        "!apt-get install -y ffmpeg"
      ],
      "metadata": {
        "collapsed": true,
        "id": "QYP6mWuLlsVX"
      },
      "execution_count": null,
      "outputs": []
    },
    {
      "cell_type": "code",
      "source": [
        "# @title run\n",
        "#!yt-dlp -v\n",
        "import yt_dlp\n",
        "\n",
        "video_url = \"\" # @param {type:\"string\"}\n",
        "\n",
        "ydl_opts = {\"format\" : \"best\"}\n",
        "\n",
        "with yt_dlp.YoutubeDL(ydl_opts) as ydl:\n",
        "    ydl.download([video_url])"
      ],
      "metadata": {
        "id": "6nKSuCfDnmmC"
      },
      "execution_count": null,
      "outputs": []
    },
    {
      "cell_type": "code",
      "source": [
        "# @title format_convert(option)\n",
        "import ffmpeg\n",
        "\n",
        "input_file = \"\" # @param {type:\"string\"}\n",
        "output_file = \"\" # @param {type:\"string\"}\n",
        "\n",
        "stream = ffmpeg.input(input_file)\n",
        "stream = ffmpeg.output(stream, output_file)\n",
        "\n",
        "ffmpeg.run(stream)"
      ],
      "metadata": {
        "id": "X4Sa1Mviwbbv"
      },
      "execution_count": null,
      "outputs": []
    }
  ],
  "metadata": {
    "colab": {
      "provenance": []
    },
    "kernelspec": {
      "display_name": "Python 3",
      "name": "python3"
    }
  },
  "nbformat": 4,
  "nbformat_minor": 0
}